{
 "cells": [
  {
   "cell_type": "code",
   "execution_count": 7,
   "id": "69556c88",
   "metadata": {},
   "outputs": [
    {
     "name": "stdout",
     "output_type": "stream",
     "text": [
      "The autoreload extension is already loaded. To reload it, use:\n",
      "  %reload_ext autoreload\n",
      "env: \"WANDB_NOTEBOOK_NAME\"=\"Real Data Training \" #for WandB, chnage the second param as required.\n"
     ]
    }
   ],
   "source": [
    "%load_ext autoreload\n",
    "%autoreload 2\n",
    "%env \"WANDB_NOTEBOOK_NAME\" \"Real Data Training \" #for WandB, chnage the second param as required.\n",
    "import warnings\n",
    "warnings.filterwarnings('ignore')\n",
    "\n",
    "from deepom.localizer_real_data import DataLocalizer\n",
    "#Ignores warnings, probably a good idea to remove if debugging \n"
   ]
  },
  {
   "cell_type": "code",
   "execution_count": null,
   "id": "77e6d3d9",
   "metadata": {
    "scrolled": true
   },
   "outputs": [
    {
     "name": "stdout",
     "output_type": "stream",
     "text": [
      "BasicUNet features: (32, 32, 64, 128, 256, 32).\n",
      "BasicUNet features: (32, 32, 64, 128, 256, 32).\n",
      "loading checkpoint:  /home/deepom/DeepOM/data/pretrained/checkpoint.pickle \n",
      "\n",
      "\n"
     ]
    },
    {
     "data": {
      "application/vnd.jupyter.widget-view+json": {
       "model_id": "0cafd24179ee41d7967b0c000f2d1b06",
       "version_major": 2,
       "version_minor": 0
      },
      "text/plain": [
       "Creating Ground Truth Data:   0%|          | 0/100 [00:00<?, ?molecules/s]"
      ]
     },
     "metadata": {},
     "output_type": "display_data"
    },
    {
     "data": {
      "application/vnd.jupyter.widget-view+json": {
       "model_id": "d5f4bbecdf9a42838dcf3b922e3a6753",
       "version_major": 2,
       "version_minor": 0
      },
      "text/plain": [
       "selected: 0it [00:00, ?it/s]"
      ]
     },
     "metadata": {},
     "output_type": "display_data"
    }
   ],
   "source": [
    "localizer = DataLocalizer()\n",
    "train_data, test_data = localizer.prepare_data()\n"
   ]
  },
  {
   "cell_type": "code",
   "execution_count": 4,
   "id": "8b179e4f-22c6-4be1-8ca8-ee17ea6def0c",
   "metadata": {},
   "outputs": [
    {
     "data": {
      "application/vnd.jupyter.widget-view+json": {
       "model_id": "903fda58659a4d76bfd6f65c2e765f89",
       "version_major": 2,
       "version_minor": 0
      },
      "text/plain": [
       "DataLocalizer-20221217-accurate-dingo: 0it [00:00, ?it/s]"
      ]
     },
     "metadata": {},
     "output_type": "display_data"
    },
    {
     "data": {
      "text/html": [
       "wandb version 0.13.7 is available!  To upgrade, please run:\n",
       " $ pip install wandb --upgrade"
      ],
      "text/plain": [
       "<IPython.core.display.HTML object>"
      ]
     },
     "metadata": {},
     "output_type": "display_data"
    },
    {
     "data": {
      "text/html": [
       "Tracking run with wandb version 0.13.5"
      ],
      "text/plain": [
       "<IPython.core.display.HTML object>"
      ]
     },
     "metadata": {},
     "output_type": "display_data"
    },
    {
     "data": {
      "text/html": [
       "Run data is saved locally in <code>/home/deepom/out/DataLocalizer/DataLocalizer-20221217-accurate-dingo/wandb/run-20221217_102508-2wnk5lvj</code>"
      ],
      "text/plain": [
       "<IPython.core.display.HTML object>"
      ]
     },
     "metadata": {},
     "output_type": "display_data"
    },
    {
     "data": {
      "text/html": [
       "Syncing run <strong><a href=\"https://wandb.ai/deepom/OM/runs/2wnk5lvj\" target=\"_blank\">DataLocalizer-20221217-accurate-dingo</a></strong> to <a href=\"https://wandb.ai/deepom/OM\" target=\"_blank\">Weights & Biases</a> (<a href=\"https://wandb.me/run\" target=\"_blank\">docs</a>)<br/>"
      ],
      "text/plain": [
       "<IPython.core.display.HTML object>"
      ]
     },
     "metadata": {},
     "output_type": "display_data"
    },
    {
     "data": {
      "text/html": [
       "Waiting for W&B process to finish... <strong style=\"color:green\">(success).</strong>"
      ],
      "text/plain": [
       "<IPython.core.display.HTML object>"
      ]
     },
     "metadata": {},
     "output_type": "display_data"
    },
    {
     "data": {
      "application/vnd.jupyter.widget-view+json": {
       "model_id": "b83fdf5ad5b34d2fa0f857c34f15e7c4",
       "version_major": 2,
       "version_minor": 0
      },
      "text/plain": [
       "VBox(children=(Label(value='0.005 MB of 0.005 MB uploaded (0.000 MB deduped)\\r'), FloatProgress(value=1.0, max…"
      ]
     },
     "metadata": {},
     "output_type": "display_data"
    },
    {
     "data": {
      "text/html": [
       "Synced <strong style=\"color:#cdcd00\">DataLocalizer-20221217-accurate-dingo</strong>: <a href=\"https://wandb.ai/deepom/OM/runs/2wnk5lvj\" target=\"_blank\">https://wandb.ai/deepom/OM/runs/2wnk5lvj</a><br/>Synced 5 W&B file(s), 0 media file(s), 0 artifact file(s) and 0 other file(s)"
      ],
      "text/plain": [
       "<IPython.core.display.HTML object>"
      ]
     },
     "metadata": {},
     "output_type": "display_data"
    },
    {
     "data": {
      "text/html": [
       "Find logs at: <code>/home/deepom/out/DataLocalizer/DataLocalizer-20221217-accurate-dingo/wandb/run-20221217_102508-2wnk5lvj/logs</code>"
      ],
      "text/plain": [
       "<IPython.core.display.HTML object>"
      ]
     },
     "metadata": {},
     "output_type": "display_data"
    }
   ],
   "source": [
    "\n",
    "localizer.epochs = 50\n",
    "localizer.train(train_data)"
   ]
  }
 ],
 "metadata": {
  "kernelspec": {
   "display_name": "Python 3 (ipykernel)",
   "language": "python",
   "name": "python3"
  },
  "language_info": {
   "codemirror_mode": {
    "name": "ipython",
    "version": 3
   },
   "file_extension": ".py",
   "mimetype": "text/x-python",
   "name": "python",
   "nbconvert_exporter": "python",
   "pygments_lexer": "ipython3",
   "version": "3.9.13"
  }
 },
 "nbformat": 4,
 "nbformat_minor": 5
}
